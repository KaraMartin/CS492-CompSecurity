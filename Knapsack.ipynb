{
 "cells": [
  {
   "cell_type": "code",
   "execution_count": 1,
   "metadata": {},
   "outputs": [],
   "source": [
    "from math import gcd\n",
    "\n",
    "# Returns a^(-1) mod b if a and b relatively prime. \n",
    "def getMultiplicativeInverseModN(a, b):\n",
    "    if gcd(a, b) != 1:\n",
    "        print(f'{a} and {b} share a factor of {gcd(a, b)}, so they are not relatively prime.')\n",
    "        return 0\n",
    "    c = a\n",
    "    while c%b != 1:\n",
    "        c += a \n",
    "    return int(c/a)\n",
    "\n",
    "# Elements of the general knapsack are of the form 2*m mod n. \n",
    "# Takes and returns a list \n",
    "def generateGeneralKnapsackFromSuperincreasingKnapsack(knapsack, n, m):\n",
    "    if gcd(n, m) != 1:\n",
    "        print(f'{n} and {m} share a factor of {gcd(n, m)}, so they are not relatively prime.')\n",
    "        return 0\n",
    "    if sum(knapsack) >= n:\n",
    "        print(f'Your value of n {n} must be greater than the sum of all elements in the superincreasing knapsack.')\n",
    "        return 0\n",
    "    temp = []\n",
    "    for e in knapsack:\n",
    "        temp.append((e*m) % n)\n",
    "    return temp\n",
    "\n",
    "# Encrypt message M (in binary) with the general knapsack \n",
    "def encryptMessageWithGeneralKnapsack(GK, M):\n",
    "    if len(GK) == len(M): \n",
    "        return sum(GK[i]*int(M[i]) for i in range(len(M)))\n",
    "    return 0\n",
    "\n",
    "# We can do this in linear time. \n",
    "# y = C * ( m^(-1) % n ) % n\n",
    "def solveSuperincreasingKnapsackWithY(SIK, y):\n",
    "    width = len(SIK)\n",
    "    plaintext = [\"0\"] * width\n",
    "    for i in range(width):\n",
    "        if y >= SIK[width - i - 1]:\n",
    "            plaintext[width - i - 1] = \"1\"\n",
    "            y -= SIK[width - i - 1]\n",
    "    return \"\".join(plaintext)"
   ]
  },
  {
   "cell_type": "code",
   "execution_count": 9,
   "metadata": {},
   "outputs": [],
   "source": [
    "# Generates nice output for the full SIK problem\n",
    "# SIK: list of the superincreasing knapsack\n",
    "# m, n: relatively prime values for generating general knapsack\n",
    "# M: Alice's message\n",
    "def doFullSIK(SIK, m, n, M):\n",
    "    # The private key is the superincreasing knapsack together with \n",
    "    # the multiplicative inverse of the conversion factor, that is: m^(-1) mod n.\n",
    "    z = getMultiplicativeInverseModN(m, n)\n",
    "\n",
    "    # The public key for this type of encryption is the general knapsack. \n",
    "    GK = generateGeneralKnapsackFromSuperincreasingKnapsack(SIK, n, m)\n",
    "\n",
    "    print(f'Private key: {SIK}')\n",
    "    print(f'm = {m} \\nn = {n} \\nm^(-1) mod n = {z}')\n",
    "    print(f'Public key: {GK}')\n",
    "\n",
    "    # Suppose Alice wants to encrypt the message (in binary) M = 10010110 for Bob. \n",
    "    print(f'M = {M}')\n",
    "    C = encryptMessageWithGeneralKnapsack(GK, M)\n",
    "    print(f'C = {C}')\n",
    "\n",
    "    # To decrupt, Bob uses his private key to find C*z\n",
    "    y = C*z % n\n",
    "    print(f'C * m^(-1) mod n = {y}')\n",
    "\n",
    "    # Then, Bob solves the SIK for y.\n",
    "    print(f'D = {solveSuperincreasingKnapsackWithY(SIK, y)}')\n",
    "    print(\"==============================================\")"
   ]
  },
  {
   "cell_type": "code",
   "execution_count": 11,
   "metadata": {},
   "outputs": [
    {
     "name": "stdout",
     "output_type": "stream",
     "text": [
      "Private key: [2, 3, 7, 14, 30, 57, 120, 251]\n",
      "m = 41 \n",
      "n = 491 \n",
      "m^(-1) mod n = 12\n",
      "Public key: [82, 123, 287, 83, 248, 373, 10, 471]\n",
      "M = 10010110\n",
      "C = 548\n",
      "C * m^(-1) mod n = 193\n",
      "D = 10010110\n",
      "==============================================\n",
      "Private key: [3, 5, 12, 23]\n",
      "m = 6 \n",
      "n = 47 \n",
      "m^(-1) mod n = 8\n",
      "Public key: [18, 30, 25, 44]\n",
      "M = 1011\n",
      "C = 87\n",
      "C * m^(-1) mod n = 38\n",
      "D = 1011\n",
      "==============================================\n"
     ]
    }
   ],
   "source": [
    "# Test problem from book\n",
    "SIK = [2, 3, 7, 14, 30, 57, 120, 251]\n",
    "m = 41\n",
    "n = 491\n",
    "M = \"10010110\"\n",
    "doFullSIK(SIK, m, n, M)\n",
    "\n",
    "# HW\n",
    "SIK = [3, 5, 12, 23]\n",
    "n = 47\n",
    "m = 6\n",
    "M = \"1011\"\n",
    "doFullSIK(SIK, m, n, M)\n"
   ]
  },
  {
   "cell_type": "code",
   "execution_count": null,
   "metadata": {},
   "outputs": [],
   "source": []
  }
 ],
 "metadata": {
  "kernelspec": {
   "display_name": "Python 3",
   "language": "python",
   "name": "python3"
  },
  "language_info": {
   "codemirror_mode": {
    "name": "ipython",
    "version": 3
   },
   "file_extension": ".py",
   "mimetype": "text/x-python",
   "name": "python",
   "nbconvert_exporter": "python",
   "pygments_lexer": "ipython3",
   "version": "3.6.5"
  }
 },
 "nbformat": 4,
 "nbformat_minor": 2
}
